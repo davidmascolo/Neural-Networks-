{
  "nbformat": 4,
  "nbformat_minor": 0,
  "metadata": {
    "colab": {
      "provenance": [],
      "collapsed_sections": []
    },
    "kernelspec": {
      "name": "python3",
      "display_name": "Python 3"
    },
    "language_info": {
      "name": "python"
    },
    "accelerator": "GPU"
  },
  "cells": [
    {
      "cell_type": "markdown",
      "source": [
        "# Neural Networks for Data Science Applications\n",
        "## Homework 1: Evaluating the calibration of a DL model\n",
        "\n",
        "**Name**: *Davide Mascolo*\n",
        "\n",
        "**Matricola**: *2001991*\n",
        "\n",
        "Upload the completed notebook **before 14/11/2022 at 23:59** on the Google Classroom page."
      ],
      "metadata": {
        "id": "BwfXT98e5hQc"
      }
    },
    {
      "cell_type": "code",
      "execution_count": 1,
      "metadata": {
        "id": "5V6Ph3UT44Xo"
      },
      "outputs": [],
      "source": [
        "import tensorflow as tf\n",
        "import matplotlib.pyplot as plt"
      ]
    },
    {
      "cell_type": "code",
      "source": [
        "# To ensure reproducible results (as much as possible)\n",
        "tf.keras.utils.set_random_seed(1234)"
      ],
      "metadata": {
        "id": "GkYGd_WY_2nq"
      },
      "execution_count": 2,
      "outputs": []
    },
    {
      "cell_type": "markdown",
      "source": [
        "### Overview\n",
        "\n",
        "The homework concerns training and evaluating the calibration of a neural network. It is divided into a small series of exercises: **the maximum mark (for the purpose of the exam) is 5**, but the total sum of points is 5.5, so you are allowed a margin of error. **Completing succesfully everything will result in a mark of 5+**.\n",
        "\n",
        "🟥 The homework must be completed *using TensorFlow*. Do not use NumPy or anything else (with one exception in Exercise 5).\n",
        "\n",
        "Below a brief description of the exercises; please read everything carefully at least once.\n",
        "\n",
        "1.   **Exercise 1** (1 point): training a neural network on the provided dataset.\n",
        "2.   **Exercise 2 and 3** (2 points): draw a *confidence histogram* and a *reliability diagram* (see instructions).\n",
        "3.   **Exercise 4** (0.5 points): compute the *expected calibration error* (ECE).\n",
        "3.   **Exercise 5** (1 point): implement the *multi-class focal loss* and re-check calibration.\n",
        "4.   **Exercise 6** (1 point): implement a simple *conformal prediction* (CP) strategy (see instructions below).\n",
        "\n",
        "\n",
        "\n"
      ],
      "metadata": {
        "id": "BmzKI83R0uYa"
      }
    },
    {
      "cell_type": "markdown",
      "source": [
        "## Data loading\n",
        "\n",
        "The dataset we use is a well-known toy multiclass dataset concerning wine quality: https://archive.ics.uci.edu/ml/datasets/wine+Quality\n",
        "\n",
        "We preprocess the original quality index into three classes (low, medium, and high quality), similarly to this notebook that you can check for more information about the dataset: https://www.kaggle.com/code/mgmarques/wines-type-and-quality-classification-exercises"
      ],
      "metadata": {
        "id": "SE7pCfZK2G5M"
      }
    },
    {
      "cell_type": "code",
      "source": [
        "!wget --quiet https://archive.ics.uci.edu/ml/machine-learning-databases/wine-quality/winequality-white.csv"
      ],
      "metadata": {
        "id": "FpQj4F8n20LI"
      },
      "execution_count": 3,
      "outputs": []
    },
    {
      "cell_type": "code",
      "source": [
        "def load_data():\n",
        "  \"\"\" Load and preprocesses the wine dataset.\n",
        "  Returns:\n",
        "    - X_train, X_test, y_train, y_test [tf.Tensor]: train and test input/output matrices.\n",
        "  \"\"\"\n",
        "  import pandas as pd\n",
        "  from sklearn.model_selection import train_test_split\n",
        "  from sklearn.preprocessing import StandardScaler, MinMaxScaler\n",
        "  \n",
        "  data = pd.read_csv('winequality-white.csv', sep=';')\n",
        "  data['quality_label'] = data.quality.apply(lambda q: 0 if q <= 5 else 1 if q <= 7 else 2)\n",
        "  data = data.dropna() # Remove NAs\n",
        "  del data['quality']  # Drop the original label\n",
        "  X, y = data.values[:, :-1], data.values[:, -1]\n",
        "  X = StandardScaler().fit_transform(X) # Normalize (we are \"cheating\" by also using the test data)\n",
        "  X_train, X_test, y_train, y_test = train_test_split(X, y, stratify=y)\n",
        "  return tf.constant(X_train), tf.constant(y_train), tf.constant(X_test), tf.constant(y_test)"
      ],
      "metadata": {
        "id": "o7CM-ufbTIV7"
      },
      "execution_count": 4,
      "outputs": []
    },
    {
      "cell_type": "code",
      "source": [
        "X_train, y_train, X_test, y_test = load_data()"
      ],
      "metadata": {
        "id": "2q3gb0gcXQ3X"
      },
      "execution_count": 5,
      "outputs": []
    },
    {
      "cell_type": "code",
      "source": [
        "# Check some details about the dataset. You are free to add any additional pre-processing to understand it better.\n",
        "print(f'Shape of X_train: {X_train.shape}')\n",
        "print(f'Shape of y_train: {y_train.shape}')\n",
        "print(f'Number of classes: {tf.reduce_max(y_train) + 1}')"
      ],
      "metadata": {
        "id": "kvOqP6k7XT7R",
        "colab": {
          "base_uri": "https://localhost:8080/"
        },
        "outputId": "09309b25-d3c9-4ea0-b956-143b876a45f4"
      },
      "execution_count": 6,
      "outputs": [
        {
          "output_type": "stream",
          "name": "stdout",
          "text": [
            "Shape of X_train: (3673, 11)\n",
            "Shape of y_train: (3673,)\n",
            "Number of classes: 3.0\n"
          ]
        }
      ]
    },
    {
      "cell_type": "code",
      "source": [
        "# This is highly unbalanced by default\n",
        "_ = plt.hist(y_train)"
      ],
      "metadata": {
        "id": "cYvbNFIRAW52",
        "colab": {
          "base_uri": "https://localhost:8080/",
          "height": 265
        },
        "outputId": "92b470fc-6eb8-464d-e063-bd7b3d936ec4"
      },
      "execution_count": 7,
      "outputs": [
        {
          "output_type": "display_data",
          "data": {
            "text/plain": [
              "<Figure size 432x288 with 1 Axes>"
            ],
            "image/png": "[encoded data removed]"
          },
          "metadata": {
            "needs_background": "light"
          }
        }
      ]
    },
    {
      "cell_type": "code",
      "source": [
        "# Baseline accuracy\n",
        "from sklearn.dummy import DummyClassifier\n",
        "DummyClassifier().fit(X_train, y_train).score(X_test, y_test)"
      ],
      "metadata": {
        "id": "eDgrbeWrAa8R",
        "colab": {
          "base_uri": "https://localhost:8080/"
        },
        "outputId": "664a938a-cd0b-4f32-f88b-8224c8f3ff5d"
      },
      "execution_count": 8,
      "outputs": [
        {
          "output_type": "execute_result",
          "data": {
            "text/plain": [
              "0.6285714285714286"
            ]
          },
          "metadata": {},
          "execution_count": 8
        }
      ]
    },
    {
      "cell_type": "markdown",
      "source": [
        "### Exercise 1: Train a neural network model (1 point)\n",
        "\n",
        "Define, train, and test a neural network for the provided dataset.\n",
        "\n",
        "☝ You are free to make any modelling choice (e.g., activation function), provided the result makes sense.\n",
        "\n",
        "✅ **Completion requirement**: print on screen the test accuracy of the network. Comments are appreciated."
      ],
      "metadata": {
        "id": "5Myy-Aq33upU"
      }
    },
    {
      "cell_type": "code",
      "source": [
        "# TODO: define a suitable neural network.\n",
        "\n",
        "## Define the architecture of the model\n",
        "## Initialize the constructor\n",
        "net = tf.keras.Sequential()\n",
        "\n",
        "## Add an input layer \n",
        "net.add(tf.keras.layers.Dense(12, activation = \"relu\"))\n",
        "\n",
        "## Add one hidden layer \n",
        "net.add(tf.keras.layers.Dense(9, activation = \"relu\"))\n",
        "\n",
        "## Add an output layer \n",
        "net.add(tf.keras.layers.Dense(3, activation = \"softmax\"))"
      ],
      "metadata": {
        "id": "godyFivmXNNf"
      },
      "execution_count": 9,
      "outputs": []
    },
    {
      "cell_type": "code",
      "source": [
        "# TODO: train the neural network.\n",
        "\n",
        "## Compile the model\n",
        "net.compile(optimizer = \"adam\", \n",
        "            loss = \"sparse_categorical_crossentropy\",\n",
        "            metrics = [\"sparse_categorical_accuracy\"])\n",
        "\n",
        "## Train the model\n",
        "history_model = net.fit(X_train, y_train, epochs = 30)"
      ],
      "metadata": {
        "id": "PgB37IKKWuhj",
        "colab": {
          "base_uri": "https://localhost:8080/"
        },
        "outputId": "fa49c217-3a7a-41ff-bdd1-53e12964c1c6"
      },
      "execution_count": 10,
      "outputs": [
        {
          "output_type": "stream",
          "name": "stdout",
          "text": [
            "Epoch 1/30\n",
            "115/115 [==============================] - 1s 2ms/step - loss: 0.9755 - sparse_categorical_accuracy: 0.5437\n",
            "Epoch 2/30\n",
            "115/115 [==============================] - 1s 4ms/step - loss: 0.7350 - sparse_categorical_accuracy: 0.6842\n",
            "Epoch 3/30\n",
            "115/115 [==============================] - 0s 4ms/step - loss: 0.6916 - sparse_categorical_accuracy: 0.7051\n",
            "Epoch 4/30\n",
            "115/115 [==============================] - 0s 3ms/step - loss: 0.6711 - sparse_categorical_accuracy: 0.7149\n",
            "Epoch 5/30\n",
            "115/115 [==============================] - 1s 5ms/step - loss: 0.6567 - sparse_categorical_accuracy: 0.7215\n",
            "Epoch 6/30\n",
            "115/115 [==============================] - 1s 4ms/step - loss: 0.6457 - sparse_categorical_accuracy: 0.7253\n",
            "Epoch 7/30\n",
            "115/115 [==============================] - 0s 4ms/step - loss: 0.6359 - sparse_categorical_accuracy: 0.7296\n",
            "Epoch 8/30\n",
            "115/115 [==============================] - 1s 4ms/step - loss: 0.6299 - sparse_categorical_accuracy: 0.7351\n",
            "Epoch 9/30\n",
            "115/115 [==============================] - 1s 4ms/step - loss: 0.6229 - sparse_categorical_accuracy: 0.7370\n",
            "Epoch 10/30\n",
            "115/115 [==============================] - 0s 4ms/step - loss: 0.6182 - sparse_categorical_accuracy: 0.7340\n",
            "Epoch 11/30\n",
            "115/115 [==============================] - 0s 4ms/step - loss: 0.6135 - sparse_categorical_accuracy: 0.7384\n",
            "Epoch 12/30\n",
            "115/115 [==============================] - 1s 5ms/step - loss: 0.6109 - sparse_categorical_accuracy: 0.7362\n",
            "Epoch 13/30\n",
            "115/115 [==============================] - 1s 5ms/step - loss: 0.6073 - sparse_categorical_accuracy: 0.7381\n",
            "Epoch 14/30\n",
            "115/115 [==============================] - 1s 4ms/step - loss: 0.6048 - sparse_categorical_accuracy: 0.7444\n",
            "Epoch 15/30\n",
            "115/115 [==============================] - 1s 6ms/step - loss: 0.6019 - sparse_categorical_accuracy: 0.7419\n",
            "Epoch 16/30\n",
            "115/115 [==============================] - 0s 4ms/step - loss: 0.6006 - sparse_categorical_accuracy: 0.7457\n",
            "Epoch 17/30\n",
            "115/115 [==============================] - 1s 4ms/step - loss: 0.5983 - sparse_categorical_accuracy: 0.7503\n",
            "Epoch 18/30\n",
            "115/115 [==============================] - 0s 4ms/step - loss: 0.5975 - sparse_categorical_accuracy: 0.7476\n",
            "Epoch 19/30\n",
            "115/115 [==============================] - 0s 4ms/step - loss: 0.5956 - sparse_categorical_accuracy: 0.7457\n",
            "Epoch 20/30\n",
            "115/115 [==============================] - 0s 4ms/step - loss: 0.5942 - sparse_categorical_accuracy: 0.7520\n",
            "Epoch 21/30\n",
            "115/115 [==============================] - 0s 4ms/step - loss: 0.5945 - sparse_categorical_accuracy: 0.7512\n",
            "Epoch 22/30\n",
            "115/115 [==============================] - 1s 4ms/step - loss: 0.5924 - sparse_categorical_accuracy: 0.7498\n",
            "Epoch 23/30\n",
            "115/115 [==============================] - 1s 5ms/step - loss: 0.5914 - sparse_categorical_accuracy: 0.7498\n",
            "Epoch 24/30\n",
            "115/115 [==============================] - 1s 5ms/step - loss: 0.5894 - sparse_categorical_accuracy: 0.7503\n",
            "Epoch 25/30\n",
            "115/115 [==============================] - 1s 4ms/step - loss: 0.5891 - sparse_categorical_accuracy: 0.7517\n",
            "Epoch 26/30\n",
            "115/115 [==============================] - 1s 5ms/step - loss: 0.5877 - sparse_categorical_accuracy: 0.7533\n",
            "Epoch 27/30\n",
            "115/115 [==============================] - 1s 5ms/step - loss: 0.5874 - sparse_categorical_accuracy: 0.7512\n",
            "Epoch 28/30\n",
            "115/115 [==============================] - 1s 6ms/step - loss: 0.5866 - sparse_categorical_accuracy: 0.7547\n",
            "Epoch 29/30\n",
            "115/115 [==============================] - 1s 5ms/step - loss: 0.5836 - sparse_categorical_accuracy: 0.7547\n",
            "Epoch 30/30\n",
            "115/115 [==============================] - 0s 4ms/step - loss: 0.5853 - sparse_categorical_accuracy: 0.7544\n"
          ]
        }
      ]
    },
    {
      "cell_type": "code",
      "source": [
        "# TODO: test the neural network and print the result on screen.\n",
        "loss, acc  = net.evaluate(X_test, y_test, verbose = 0)\n",
        "print(\"Test Accuracy: %.3f\" % acc)\n",
        "print(\"--------------------\")\n",
        "print(\"Loss: %.3f\" % loss)"
      ],
      "metadata": {
        "id": "cJJFyts8Wqez",
        "colab": {
          "base_uri": "https://localhost:8080/"
        },
        "outputId": "659a4a7c-bca6-45ad-c333-d579601cd2e2"
      },
      "execution_count": 11,
      "outputs": [
        {
          "output_type": "stream",
          "name": "stdout",
          "text": [
            "Test Accuracy: 0.742\n",
            "--------------------\n",
            "Loss: 0.604\n"
          ]
        }
      ]
    },
    {
      "cell_type": "code",
      "source": [
        "## Plot loss and accuracy for training test\n",
        "plt.style.use(\"ggplot\")\n",
        "\n",
        "## Accuracy\n",
        "plt.figure(figsize = (20, 4))\n",
        "plt.subplot(121)\n",
        "plt.plot(history_model.history[\"sparse_categorical_accuracy\"], label = \"Accuracy\", linewidth = 3, color = \"blue\")\n",
        "plt.xlabel(\"Epoch\")\n",
        "plt.title(\"Accuracy on training set\")\n",
        "\n",
        "## Loss\n",
        "plt.subplot(122)\n",
        "plt.plot(history_model.history[\"loss\"], label = \"Loss\", linewidth = 3, color = \"blue\")\n",
        "plt.xlabel(\"Epoch\")\n",
        "plt.title(\"Loss on training set\")\n",
        "plt.show()"
      ],
      "metadata": {
        "id": "hS2k1cxdiAyg",
        "colab": {
          "base_uri": "https://localhost:8080/",
          "height": 299
        },
        "outputId": "d89caec4-cad4-4766-c4ad-b15215330fbe"
      },
      "execution_count": 12,
      "outputs": [
        {
          "output_type": "display_data",
          "data": {
            "text/plain": [
              "<Figure size 1440x288 with 2 Axes>"
            ],
            "image/png": "[encoded data removed]"
          },
          "metadata": {}
        }
      ]
    },
    {
      "cell_type": "markdown",
      "source": [
        "### Comment\n",
        "To solve this exercise a very simple network made up of three layers (input, hidden, output) has been implemented. For the first two layers the Relu was used as an activation function and for the last layer the Softmax function.\n",
        "\n",
        "Hence, the network was compiled by *optimizer Adam*, *sparse categorical cross-entropy* and *sparse categorical accuracy*.\n",
        "\n",
        "In conclusion, the network has been trained for 30 epochs."
      ],
      "metadata": {
        "id": "Ppzcrbhv92E-"
      }
    },
    {
      "cell_type": "markdown",
      "source": [
        "### Exercise 2: Confidence histogram of the network (1 point)\n",
        "\n",
        "🟥 Before starting, read carefully at least Sections 1 and 2 of the following paper: [On the calibration of modern neural networks](https://arxiv.org/abs/1706.04599) (which we also discussed in class). We will refer to the paper as (Guo et al., 2017).\n",
        "\n",
        "The purpose of this exercise is to replicate a confidence histogram *computed over the test set*, which is Fig. 1 in (Guo et al., 2017), top-left figure. The plot should include:\n",
        "1. The distribution of the network's confidence (corresponding to **the highest output probability**);\n",
        "2. The average accuracy of the network;\n",
        "3. The average confidence of the network.\n",
        "\n",
        "✅ **Completion requirement**: plot the correct figure. Please include a readable legend and captions on the axes."
      ],
      "metadata": {
        "id": "0i1Jr0mQ7lRY"
      }
    },
    {
      "cell_type": "code",
      "source": [
        "# To start: this is the number of bins for the histogram and the corresponding values. You are free to modify the number of bins.\n",
        "num_bins = 10\n",
        "bins = tf.linspace(start=0.0, stop=1.0, num=num_bins)\n",
        "print(bins)"
      ],
      "metadata": {
        "id": "WGeQDlEpJ-3b",
        "colab": {
          "base_uri": "https://localhost:8080/"
        },
        "outputId": "36bd8c2e-0c7f-41be-983f-6b091e6feee2"
      },
      "execution_count": 13,
      "outputs": [
        {
          "output_type": "stream",
          "name": "stdout",
          "text": [
            "tf.Tensor(\n",
            "[0.         0.11111111 0.22222222 0.33333334 0.44444445 0.5555556\n",
            " 0.6666667  0.7777778  0.8888889  1.        ], shape=(10,), dtype=float32)\n"
          ]
        }
      ]
    },
    {
      "cell_type": "code",
      "source": [
        "## Compute the distribution of the network's confidence\n",
        "y_pred     = net.predict(X_test)\n",
        "y_pred_idx = tf.math.argmax(y_pred, axis = 1)\n",
        "\n",
        "conf   = tf.math.reduce_max(y_pred, axis = 1)\n",
        "\n",
        "## Compute the average accuracy of the network\n",
        "avg_acc = acc\n",
        "\n",
        "## Compute the average confidence of the network\n",
        "avg_conf = tf.reduce_mean(conf)"
      ],
      "metadata": {
        "id": "n5KwR3hP-jlA",
        "colab": {
          "base_uri": "https://localhost:8080/"
        },
        "outputId": "5fa090d1-bb3e-4f9e-df83-d4a32131079b"
      },
      "execution_count": 14,
      "outputs": [
        {
          "output_type": "stream",
          "name": "stdout",
          "text": [
            "39/39 [==============================] - 0s 4ms/step\n"
          ]
        }
      ]
    },
    {
      "cell_type": "code",
      "source": [
        "## Check\n",
        "print(\"Avg. Accuracy: %.3f\" % avg_acc)\n",
        "print(\"----------------------\")\n",
        "print(\"Avg. Confidence: %.3f\" % avg_conf)"
      ],
      "metadata": {
        "id": "9jMIasMZ-k7g",
        "colab": {
          "base_uri": "https://localhost:8080/"
        },
        "outputId": "398c6d44-f401-4911-c2b2-7a17bb0b44ff"
      },
      "execution_count": 15,
      "outputs": [
        {
          "output_type": "stream",
          "name": "stdout",
          "text": [
            "Avg. Accuracy: 0.742\n",
            "----------------------\n",
            "Avg. Confidence: 0.753\n"
          ]
        }
      ]
    },
    {
      "cell_type": "code",
      "source": [
        "# TODO: plot the confidence histogram.\n",
        "plt.figure(figsize = (10, 4))\n",
        "plt.hist(conf, facecolor = \"blue\", alpha = 0.5, weights =  tf.ones(len(conf))/ len(conf), bins = bins, edgecolor = \"black\")\n",
        "plt.axvline(x = avg_acc, color = \"red\", linestyle = \"--\", label = \"Accuracy\")\n",
        "plt.axvline(x = avg_conf, color = \"green\", linestyle = \"--\", label = \"Avg. Confidence\")\n",
        "plt.xlabel(\"Confidence\")\n",
        "plt.ylabel(\"% Samples\")\n",
        "plt.title(\"Confidence Histogram\")\n",
        "plt.legend(loc = \"upper left\")"
      ],
      "metadata": {
        "id": "o4nEAHpD6dlc",
        "colab": {
          "base_uri": "https://localhost:8080/",
          "height": 316
        },
        "outputId": "520c739c-b6d9-4389-a790-bb0b1c34f361"
      },
      "execution_count": 16,
      "outputs": [
        {
          "output_type": "execute_result",
          "data": {
            "text/plain": [
              "<matplotlib.legend.Legend at 0x7f732541ffd0>"
            ]
          },
          "metadata": {},
          "execution_count": 16
        },
        {
          "output_type": "display_data",
          "data": {
            "text/plain": [
              "<Figure size 720x288 with 1 Axes>"
            ],
            "image/png": "[encoded data removed]"
          },
          "metadata": {}
        }
      ]
    },
    {
      "cell_type": "markdown",
      "source": [
        "The confidence histogram shows how many test examples are in each bin. Here, we used 10 bins and we can see that most predictions of this model have a confidence > 0.6.\n",
        "\n",
        "The two vertical lines indicate the accuracy and the average confidence. The closer they are, the more calibrated the model will be."
      ],
      "metadata": {
        "id": "T-zZuvcgllEX"
      }
    },
    {
      "cell_type": "markdown",
      "source": [
        "### Exercise 3: Reliability diagrams (1 point)\n",
        "\n",
        "This is similar to exercise 2, but you need to plot a **reliability diagram**, which is the bottom-left figure in Fig. 1 from (Guo et al., 2017). For this figure you need:\n",
        "\n",
        "1. The histogram of the average accuracy of the network for each bin.\n",
        "2. A superimposed histogram of the average confidence for each bin.\n",
        "3. A diagonal line showing perfect calibration.\n",
        "\n",
        "☝ **Hint**: the `Discretization` layer from TF may be useful: https://www.tensorflow.org/api_docs/python/tf/keras/layers/Discretization\n",
        "\n",
        "🟩 **Completion requirement**: plot the correct figure. Please include a readable legend and captions on the axes.\n"
      ],
      "metadata": {
        "id": "XXUhR5ZH9PKQ"
      }
    },
    {
      "cell_type": "code",
      "source": [
        "## Define a function to compute the accuracy\n",
        "def accuracy(ytrue, ypred):\n",
        "    pred = tf.cast(ypred, dtype = tf.float64)\n",
        "    res = tf.reduce_mean(tf.cast(ytrue == pred, tf.float64))\n",
        "    return res"
      ],
      "metadata": {
        "id": "2wcoXvdZ-pa1"
      },
      "execution_count": 17,
      "outputs": []
    },
    {
      "cell_type": "code",
      "source": [
        "## Compute the accuracy for each bin\n",
        "layer    = tf.keras.layers.Discretization(bin_boundaries = bins)\n",
        "idx_bins = layer(conf)\n",
        "\n",
        "def compute_acc_bins(num_bins, ytest, ypred, idx, confidence):\n",
        "    acc_res  = []\n",
        "    conf_res = []\n",
        "    bin_cnt  = []\n",
        "    \n",
        "    for b in range(num_bins):\n",
        "        idx_match = tf.where(idx == b)\n",
        "        bin_cnt.append(len(idx_match))\n",
        "        \n",
        "        if len(idx_match) > 0:\n",
        "            ## Matching index\n",
        "            y_test_value = tf.gather(ytest, indices = [idx_match])\n",
        "            y_pred_value = tf.gather(ypred, indices = [idx_match])\n",
        "\n",
        "            ## Compute accuracy and confidence\n",
        "            acc = accuracy(y_test_value, y_pred_value)\n",
        "            conf = tf.reduce_mean(tf.gather(confidence, indices = [idx_match]))\n",
        "\n",
        "            ## Add to lists\n",
        "            acc_res.append(tf.keras.backend.get_value(acc))\n",
        "            conf_res.append(tf.keras.backend.get_value(conf))\n",
        "            \n",
        "        else:\n",
        "            acc_res.append(0)\n",
        "            conf_res.append(0)\n",
        "\n",
        "    ## Return metrics\n",
        "    return {\"accuracy\": acc_res, \n",
        "            \"confidence\": conf_res,\n",
        "            \"prop_samples\": bin_cnt}"
      ],
      "metadata": {
        "id": "i-tUxKY8-q4k"
      },
      "execution_count": 18,
      "outputs": []
    },
    {
      "cell_type": "code",
      "source": [
        "## Check\n",
        "metrics = compute_acc_bins(num_bins, y_test, y_pred_idx, idx_bins, conf)"
      ],
      "metadata": {
        "id": "NQC0tsZS-sFY"
      },
      "execution_count": 19,
      "outputs": []
    },
    {
      "cell_type": "code",
      "source": [
        "## Compute gaps\n",
        "gaps = tf.math.abs([el1 - el2 for el1, el2 in zip(metrics[\"accuracy\"], metrics[\"confidence\"])])\n",
        "print(\"Gap is:\", list(tf.keras.backend.get_value(gaps)))"
      ],
      "metadata": {
        "id": "M4X4a9To-tbp",
        "colab": {
          "base_uri": "https://localhost:8080/"
        },
        "outputId": "9c44dfbe-5b86-4e8c-bed8-f990095696ab"
      },
      "execution_count": 20,
      "outputs": [
        {
          "output_type": "stream",
          "name": "stdout",
          "text": [
            "Gap is: [0.0, 0.0, 0.0, 0.0, 0.0, 0.0031523558, 0.04911287, 0.022500284, 0.01810183, 0.056178603]\n"
          ]
        }
      ]
    },
    {
      "cell_type": "code",
      "source": [
        "# TODO: plot the reliability diagram.\n",
        "plt.figure(figsize = (10, 4))\n",
        "plt.bar(bins, metrics[\"confidence\"], color = \"red\", width = -0.1, label = \"Gap\", alpha = 0.7)\n",
        "plt.bar(bins, metrics[\"accuracy\"], color = \"blue\", width = -0.1, label = \"Accuracy\")\n",
        "plt.plot([0, 1], [0, 1], linestyle = \"dashed\", linewidth = 3, color = \"grey\")\n",
        "plt.title(\"Reliability Diagram\")\n",
        "plt.xlabel(\"Confidence\")\n",
        "plt.ylabel(\"Accuracy\")\n",
        "plt.legend(loc = \"upper left\")"
      ],
      "metadata": {
        "id": "rJZBZUFA6POv",
        "colab": {
          "base_uri": "https://localhost:8080/",
          "height": 316
        },
        "outputId": "4ecad33c-4dc9-4c73-bd4e-75905b02f8ee"
      },
      "execution_count": 21,
      "outputs": [
        {
          "output_type": "execute_result",
          "data": {
            "text/plain": [
              "<matplotlib.legend.Legend at 0x7f73253a66d0>"
            ]
          },
          "metadata": {},
          "execution_count": 21
        },
        {
          "output_type": "display_data",
          "data": {
            "text/plain": [
              "<Figure size 720x288 with 1 Axes>"
            ],
            "image/png": "[encoded data removed]"
          },
          "metadata": {}
        }
      ]
    },
    {
      "cell_type": "markdown",
      "source": [
        "🛑 Before moving to the next exercise, answer (in a short sentence) the following question.\n",
        "\n",
        "**Question**: what does the previous diagrams tell you about the calibration of the neural network?\n",
        "\n",
        "\n",
        "### Comment\n",
        "The reliability diagram shows the expected sample accuracy as a function of confidence for each bin.\n",
        "The diagonal is the ideal accuracy for each confidence level.\n",
        "\n",
        "In this case, we can see that the model is well calibrated, in fact the *gaps* between accuracy and confidence that are represented by the red bars are very small. \n",
        "\n",
        "\n",
        "In particular, the model is:\n",
        "- perfect-calibrated for the bins [0.5; 0.6] and [0.6; 0.7] and slightly underconfidence for the other bins, but in general the performance is excellent, as we can see also looking at the ECE calculated below."
      ],
      "metadata": {
        "id": "3QU8G53JAbHr"
      }
    },
    {
      "cell_type": "markdown",
      "source": [
        "### Exercise 4: Expected calibration error, ECE (0.5 points)\n",
        "\n",
        "For this exercise, you need to compute and print on screen the ECE, which is Eq. (3) from (Guo et al., 2017)."
      ],
      "metadata": {
        "id": "pIFUonMOY-Mh"
      }
    },
    {
      "cell_type": "markdown",
      "source": [
        "☝ **Hint(s)**: you should have computed almost everything already for Exercise 3. If you have NaN issues, you may want to check for empty bins.\n",
        "\n",
        "🟩 **Completion requirement**: print the ECE."
      ],
      "metadata": {
        "id": "cFwzYKmnZVGk"
      }
    },
    {
      "cell_type": "code",
      "source": [
        "# TODO: compute and print the ECE for the network.\n",
        "print(\"Expected Calibration Error:\", tf.keras.backend.get_value(tf.reduce_sum(tf.math.multiply(gaps, metrics[\"prop_samples\"]) / X_test.shape[0])))"
      ],
      "metadata": {
        "id": "nJdQ6nbp-rIM",
        "colab": {
          "base_uri": "https://localhost:8080/"
        },
        "outputId": "2215f924-bd5c-4ea2-97e0-02d2ad049786"
      },
      "execution_count": 22,
      "outputs": [
        {
          "output_type": "stream",
          "name": "stdout",
          "text": [
            "Expected Calibration Error: 0.027269859\n"
          ]
        }
      ]
    },
    {
      "cell_type": "markdown",
      "source": [
        "### Exercise 5: Calibrating with the focal loss (1 point)\n",
        "\n",
        "🟥 Before proceeding, read carefully the following paper: [Calibrating Deep Neural Networks using Focal Loss](https://proceedings.neurips.cc/paper/2020/hash/aeb7b30ef1d024a76f21a1d40e30c302-Abstract.html). We'll refer to it as (Mukhoti et al., 2020).\n",
        "\n",
        "The task of this exercise is to train again the neural network from before, using the Focal Loss (Section 4 in (Mukhoti et al., 2020)) instead of the cross-entropy:\n",
        "\n",
        "\\begin{equation}\n",
        "L(y, \\hat{y}) = - (1-\\hat{y}_c)^\\gamma \\log \\hat{y}_c\n",
        "\\end{equation}\n",
        "\n",
        "where $\\hat{y}$ is the vector of predictions from the network, $c$ is the index of the correct class ($y_c == 1$), $\\gamma > 0$ is a hyper-parameter. For $\\gamma=0$, this reduces to the cross-entropy.\n",
        "\n",
        "☝ In order to implement a new loss function in TF, you need to subclass [tf.keras.losses.Loss](https://www.tensorflow.org/api_docs/python/tf/keras/losses/Loss). Read carefully the link.\n",
        "\n",
        "🟩 **Completion requirement**: complete the `FocalLoss` implementation below. Instantiate a new network, train with the new focal loss, and check the resulting confidence histogram, reliability diagram, and ECE.\n"
      ],
      "metadata": {
        "id": "XXSH6o-RBB7x"
      }
    },
    {
      "cell_type": "code",
      "source": [
        "class FocalLoss(tf.keras.losses.Loss):\n",
        "    # TODO: complete implementation\n",
        "\n",
        "    ## loss = -*((1-y_c)^gamma)*log(y_c)\n",
        "    def __init__(self, gamma = 2):\n",
        "        super(FocalLoss, self).__init__()\n",
        "        self.gamma = gamma\n",
        "\n",
        "    def call(self, y_true, y_pred):\n",
        "        ## y_pred is the prediction\n",
        "        ## y_test is the ground truth\n",
        "        c = tf.cast(y_true, dtype = tf.int32)\n",
        "        y_c = y_pred * tf.one_hot(c, depth = 3)\n",
        "\n",
        "        ## compute cross entropy\n",
        "        csse = tf.keras.losses.SparseCategoricalCrossentropy()\n",
        "        ce   = csse(y_true, y_pred)\n",
        "        \n",
        "        ## compute focal loss\n",
        "        mod_fac = tf.pow((1 - y_c), self.gamma)\n",
        "        loss = ce * mod_fac\n",
        "        loss = tf.reduce_mean(loss, axis = 1)\n",
        "        return  loss"
      ],
      "metadata": {
        "id": "BQrz3fIQ9t6F"
      },
      "execution_count": 23,
      "outputs": []
    },
    {
      "cell_type": "code",
      "source": [
        "# TODO: Train a second neural network with the FocalLoss object.\n",
        "\n",
        "## Instantiate the model\n",
        "net_focal_loss = tf.keras.Sequential()\n",
        "\n",
        "net_focal_loss.add(tf.keras.layers.Dense(12, activation = \"relu\"))\n",
        "net_focal_loss.add(tf.keras.layers.Dense(6, activation = \"relu\"))\n",
        "net_focal_loss.add(tf.keras.layers.Dense(3, activation = \"softmax\"))\n",
        "\n",
        "## Compile\n",
        "net_focal_loss.compile(optimizer = \"adam\",\n",
        "                       loss = FocalLoss(),\n",
        "                       metrics = [\"sparse_categorical_accuracy\"])\n",
        "\n",
        "## Fit\n",
        "history_model_focal_loss = net_focal_loss.fit(X_train, y_train, epochs = 30)"
      ],
      "metadata": {
        "id": "PkIvzy9cAW8l",
        "colab": {
          "base_uri": "https://localhost:8080/"
        },
        "outputId": "988f8acd-65a1-4312-cf01-e18e6c59602a"
      },
      "execution_count": 24,
      "outputs": [
        {
          "output_type": "stream",
          "name": "stdout",
          "text": [
            "Epoch 1/30\n",
            "115/115 [==============================] - 1s 3ms/step - loss: 1.0463 - sparse_categorical_accuracy: 0.3150\n",
            "Epoch 2/30\n",
            "115/115 [==============================] - 0s 3ms/step - loss: 0.7054 - sparse_categorical_accuracy: 0.6395\n",
            "Epoch 3/30\n",
            "115/115 [==============================] - 0s 2ms/step - loss: 0.5835 - sparse_categorical_accuracy: 0.6796\n",
            "Epoch 4/30\n",
            "115/115 [==============================] - 0s 2ms/step - loss: 0.5382 - sparse_categorical_accuracy: 0.7019\n",
            "Epoch 5/30\n",
            "115/115 [==============================] - 0s 2ms/step - loss: 0.5191 - sparse_categorical_accuracy: 0.7174\n",
            "Epoch 6/30\n",
            "115/115 [==============================] - 0s 3ms/step - loss: 0.5079 - sparse_categorical_accuracy: 0.7190\n",
            "Epoch 7/30\n",
            "115/115 [==============================] - 0s 2ms/step - loss: 0.4985 - sparse_categorical_accuracy: 0.7218\n",
            "Epoch 8/30\n",
            "115/115 [==============================] - 0s 2ms/step - loss: 0.4935 - sparse_categorical_accuracy: 0.7277\n",
            "Epoch 9/30\n",
            "115/115 [==============================] - 0s 2ms/step - loss: 0.4877 - sparse_categorical_accuracy: 0.7305\n",
            "Epoch 10/30\n",
            "115/115 [==============================] - 0s 2ms/step - loss: 0.4830 - sparse_categorical_accuracy: 0.7305\n",
            "Epoch 11/30\n",
            "115/115 [==============================] - 0s 2ms/step - loss: 0.4797 - sparse_categorical_accuracy: 0.7378\n",
            "Epoch 12/30\n",
            "115/115 [==============================] - 0s 3ms/step - loss: 0.4767 - sparse_categorical_accuracy: 0.7397\n",
            "Epoch 13/30\n",
            "115/115 [==============================] - 0s 2ms/step - loss: 0.4744 - sparse_categorical_accuracy: 0.7389\n",
            "Epoch 14/30\n",
            "115/115 [==============================] - 0s 2ms/step - loss: 0.4719 - sparse_categorical_accuracy: 0.7414\n",
            "Epoch 15/30\n",
            "115/115 [==============================] - 0s 2ms/step - loss: 0.4702 - sparse_categorical_accuracy: 0.7397\n",
            "Epoch 16/30\n",
            "115/115 [==============================] - 0s 2ms/step - loss: 0.4687 - sparse_categorical_accuracy: 0.7422\n",
            "Epoch 17/30\n",
            "115/115 [==============================] - 0s 2ms/step - loss: 0.4675 - sparse_categorical_accuracy: 0.7435\n",
            "Epoch 18/30\n",
            "115/115 [==============================] - 0s 2ms/step - loss: 0.4662 - sparse_categorical_accuracy: 0.7449\n",
            "Epoch 19/30\n",
            "115/115 [==============================] - 0s 2ms/step - loss: 0.4652 - sparse_categorical_accuracy: 0.7487\n",
            "Epoch 20/30\n",
            "115/115 [==============================] - 0s 2ms/step - loss: 0.4635 - sparse_categorical_accuracy: 0.7454\n",
            "Epoch 21/30\n",
            "115/115 [==============================] - 0s 2ms/step - loss: 0.4633 - sparse_categorical_accuracy: 0.7493\n",
            "Epoch 22/30\n",
            "115/115 [==============================] - 0s 2ms/step - loss: 0.4620 - sparse_categorical_accuracy: 0.7503\n",
            "Epoch 23/30\n",
            "115/115 [==============================] - 0s 2ms/step - loss: 0.4617 - sparse_categorical_accuracy: 0.7473\n",
            "Epoch 24/30\n",
            "115/115 [==============================] - 0s 2ms/step - loss: 0.4605 - sparse_categorical_accuracy: 0.7482\n",
            "Epoch 25/30\n",
            "115/115 [==============================] - 0s 2ms/step - loss: 0.4600 - sparse_categorical_accuracy: 0.7493\n",
            "Epoch 26/30\n",
            "115/115 [==============================] - 0s 2ms/step - loss: 0.4593 - sparse_categorical_accuracy: 0.7498\n",
            "Epoch 27/30\n",
            "115/115 [==============================] - 0s 2ms/step - loss: 0.4589 - sparse_categorical_accuracy: 0.7484\n",
            "Epoch 28/30\n",
            "115/115 [==============================] - 0s 2ms/step - loss: 0.4579 - sparse_categorical_accuracy: 0.7495\n",
            "Epoch 29/30\n",
            "115/115 [==============================] - 0s 2ms/step - loss: 0.4562 - sparse_categorical_accuracy: 0.7514\n",
            "Epoch 30/30\n",
            "115/115 [==============================] - 0s 2ms/step - loss: 0.4567 - sparse_categorical_accuracy: 0.7512\n"
          ]
        }
      ]
    },
    {
      "cell_type": "code",
      "source": [
        "## Plot loss and accuracy for training test\n",
        "\n",
        "## Accuracy\n",
        "plt.figure(figsize = (20, 4))\n",
        "plt.subplot(121)\n",
        "plt.plot(history_model_focal_loss.history[\"sparse_categorical_accuracy\"], linewidth = 3, color = \"blue\")\n",
        "plt.xlabel(\"Epoch\")\n",
        "plt.title(\"Accuracy on training set\")\n",
        "\n",
        "## Loss\n",
        "plt.subplot(122)\n",
        "plt.plot(history_model_focal_loss.history[\"loss\"], linewidth = 3, color = \"blue\")\n",
        "plt.xlabel(\"Epoch\")\n",
        "plt.title(\"Loss on training set\")\n",
        "plt.show()"
      ],
      "metadata": {
        "colab": {
          "base_uri": "https://localhost:8080/",
          "height": 299
        },
        "outputId": "b31c2dda-ffa1-498a-91c3-ee114075471c",
        "id": "2IrDaBynmyka"
      },
      "execution_count": 25,
      "outputs": [
        {
          "output_type": "display_data",
          "data": {
            "text/plain": [
              "<Figure size 1440x288 with 2 Axes>"
            ],
            "image/png": "[encoded data removed]"
          },
          "metadata": {}
        }
      ]
    },
    {
      "cell_type": "code",
      "source": [
        "## Performance on test set\n",
        "loss_focal, acc_focal  = net_focal_loss.evaluate(X_test, y_test, verbose = 0)\n",
        "print(\"Test Accuracy with Focal Loss: %.3f\" % acc_focal)\n",
        "print(\"--------------------\")\n",
        "print(\"Focal Loss: %.3f\" % loss_focal)"
      ],
      "metadata": {
        "colab": {
          "base_uri": "https://localhost:8080/"
        },
        "outputId": "ba343014-7743-413d-93bb-5e399089d707",
        "id": "WYQi_9shmykZ"
      },
      "execution_count": 26,
      "outputs": [
        {
          "output_type": "stream",
          "name": "stdout",
          "text": [
            "Test Accuracy with Focal Loss: 0.724\n",
            "--------------------\n",
            "Focal Loss: 0.478\n"
          ]
        }
      ]
    },
    {
      "cell_type": "code",
      "source": [
        "## Compute the distribution of the network's confidence\n",
        "y_pred_focal_loss     = net_focal_loss.predict(X_test)\n",
        "y_pred_focal_loss_idx = tf.math.argmax(y_pred_focal_loss, axis = 1)\n",
        "\n",
        "conf_focal_loss   = tf.math.reduce_max(y_pred_focal_loss, axis = 1)\n",
        "\n",
        "## Compute the average accuracy of the network\n",
        "avg_acc_focal_loss = acc_focal\n",
        "\n",
        "## Compute the average confidence of the network\n",
        "avg_conf_focal_loss = tf.reduce_mean(conf_focal_loss)"
      ],
      "metadata": {
        "id": "R2ovdP6r_Anp",
        "colab": {
          "base_uri": "https://localhost:8080/"
        },
        "outputId": "fcc53109-d9ca-4770-c1e1-8be39e5e9bf5"
      },
      "execution_count": 27,
      "outputs": [
        {
          "output_type": "stream",
          "name": "stdout",
          "text": [
            "39/39 [==============================] - 0s 1ms/step\n"
          ]
        }
      ]
    },
    {
      "cell_type": "code",
      "source": [
        "## Check\n",
        "print(\"Avg. Accuracy: %.3f\" % avg_acc_focal_loss)\n",
        "print(\"----------------------\")\n",
        "print(\"Avg. Confidence: %.3f\" % avg_conf_focal_loss)"
      ],
      "metadata": {
        "id": "BUnAHwgt_DGB",
        "colab": {
          "base_uri": "https://localhost:8080/"
        },
        "outputId": "0ff179de-f1dd-42fe-c189-fb5b82540090"
      },
      "execution_count": 28,
      "outputs": [
        {
          "output_type": "stream",
          "name": "stdout",
          "text": [
            "Avg. Accuracy: 0.724\n",
            "----------------------\n",
            "Avg. Confidence: 0.738\n"
          ]
        }
      ]
    },
    {
      "cell_type": "code",
      "source": [
        "# TODO: plot confidence histogram, reliability diagram, and print the ECE of the new network.\n",
        "plt.figure(figsize = (10, 4))\n",
        "plt.hist(conf_focal_loss, facecolor = \"blue\", alpha = 0.5, weights =  tf.ones(len(conf_focal_loss))/ len(conf_focal_loss), bins = bins, edgecolor = \"black\")\n",
        "plt.axvline(x = avg_acc_focal_loss, color = \"red\", linestyle = \"--\", label = \"Accuracy\")\n",
        "plt.axvline(x = avg_conf_focal_loss, color = \"green\", linestyle = \"--\", label = \"Avg. Confidence\")\n",
        "plt.xlabel(\"Confidence\")\n",
        "plt.ylabel(\"% Samples\")\n",
        "plt.title(\"Confidence Histogram\")\n",
        "plt.legend(loc = \"upper left\")"
      ],
      "metadata": {
        "id": "eTUy2ltU-h6D",
        "colab": {
          "base_uri": "https://localhost:8080/",
          "height": 316
        },
        "outputId": "f607a0b9-b18a-4af8-f05b-581cbcb6ea2d"
      },
      "execution_count": 29,
      "outputs": [
        {
          "output_type": "execute_result",
          "data": {
            "text/plain": [
              "<matplotlib.legend.Legend at 0x7f7324f97d50>"
            ]
          },
          "metadata": {},
          "execution_count": 29
        },
        {
          "output_type": "display_data",
          "data": {
            "text/plain": [
              "<Figure size 720x288 with 1 Axes>"
            ],
            "image/png": "[encoded data removed]"
          },
          "metadata": {}
        }
      ]
    },
    {
      "cell_type": "code",
      "source": [
        "## Check\n",
        "layer    = tf.keras.layers.Discretization(bin_boundaries = bins)\n",
        "idx_bins_focal_loss = layer(conf_focal_loss)\n",
        "\n",
        "metrics_focal_loss = compute_acc_bins(num_bins, y_test, y_pred_focal_loss_idx, idx_bins_focal_loss, conf_focal_loss)"
      ],
      "metadata": {
        "id": "3M9DucDN_HGC"
      },
      "execution_count": 30,
      "outputs": []
    },
    {
      "cell_type": "code",
      "source": [
        "## Compute gaps\n",
        "gaps_focal_loss = tf.math.abs([el1 - el2 for el1, el2 in zip(metrics_focal_loss[\"accuracy\"], metrics_focal_loss[\"confidence\"])])\n",
        "print(\"Gap is:\", list(tf.keras.backend.get_value(gaps_focal_loss)))"
      ],
      "metadata": {
        "colab": {
          "base_uri": "https://localhost:8080/"
        },
        "id": "LiG9xae8f0VA",
        "outputId": "258449c7-9edc-482e-e828-52196eb169f5"
      },
      "execution_count": 31,
      "outputs": [
        {
          "output_type": "stream",
          "name": "stdout",
          "text": [
            "Gap is: [0.0, 0.0, 0.0, 0.0, 0.0, 0.017476121, 0.026016833, 0.013246192, 0.0049014986, 0.059973426]\n"
          ]
        }
      ]
    },
    {
      "cell_type": "code",
      "source": [
        "# TODO: plot the reliability diagram.\n",
        "plt.figure(figsize = (10, 4))\n",
        "plt.bar(bins, metrics_focal_loss[\"confidence\"], color = \"red\", width = 0.1, label = \"Gap\", alpha = 0.7)\n",
        "plt.bar(bins, metrics_focal_loss[\"accuracy\"], color = \"blue\",  width = 0.1, label = \"Accuracy\")\n",
        "plt.plot([0, 1], [0, 1], linestyle = \"dashed\", linewidth = 3, color = \"grey\")\n",
        "plt.title(\"Reliability Diagram\")\n",
        "plt.xlabel(\"Confidence\")\n",
        "plt.ylabel(\"Accuracy\")\n",
        "plt.legend(loc = \"upper left\")"
      ],
      "metadata": {
        "id": "IK6e1HISZ69T",
        "colab": {
          "base_uri": "https://localhost:8080/",
          "height": 316
        },
        "outputId": "43895d7b-a080-43bf-c042-34b68ab22d9c"
      },
      "execution_count": 32,
      "outputs": [
        {
          "output_type": "execute_result",
          "data": {
            "text/plain": [
              "<matplotlib.legend.Legend at 0x7f7325089210>"
            ]
          },
          "metadata": {},
          "execution_count": 32
        },
        {
          "output_type": "display_data",
          "data": {
            "text/plain": [
              "<Figure size 720x288 with 1 Axes>"
            ],
            "image/png": "[encoded data removed]"
          },
          "metadata": {}
        }
      ]
    },
    {
      "cell_type": "code",
      "source": [
        "## TODO: print the ECE of the new network.\n",
        "print(\"Expected Calibration Error:\", tf.keras.backend.get_value(tf.reduce_sum(tf.math.multiply(gaps_focal_loss,\n",
        "                                                                                            metrics_focal_loss[\"prop_samples\"]) / X_test.shape[0])))"
      ],
      "metadata": {
        "id": "cKsZynvR_P6X",
        "colab": {
          "base_uri": "https://localhost:8080/"
        },
        "outputId": "68a78b97-7d86-4414-b1a8-c96bbd6b3261"
      },
      "execution_count": 33,
      "outputs": [
        {
          "output_type": "stream",
          "name": "stdout",
          "text": [
            "Expected Calibration Error: 0.017947957\n"
          ]
        }
      ]
    },
    {
      "cell_type": "markdown",
      "source": [
        "🛑 Before moving to the next exercise, answer (in a short sentence) the following question.\n",
        "\n",
        "**Question**: what can you tell about the calibration of this second neural network?\n",
        "\n",
        "### Comment\n",
        "\n",
        "We can see that using the Focal Loss, there is a slight improvement in terms of ECE probably given by the bin [0.7; 0.8] and [0.8; 0.9] that are more calibrated with respect to same bins without the focal loss, but the model is less calibrated on the bin [0.6; 0.7]. \n",
        " \n",
        "In general, also using this new loss the model is  well calibrated"
      ],
      "metadata": {
        "id": "h0NhYGXGeNyQ"
      }
    },
    {
      "cell_type": "markdown",
      "source": [
        "### Exercise 5: Conformal prediction (1 point)"
      ],
      "metadata": {
        "id": "iKdqI-XMBItw"
      }
    },
    {
      "cell_type": "markdown",
      "source": [
        "🟥 Before proceeding, read **Section 1** from the following paper: [A Gentle Introduction to Conformal Prediction and Distribution-Free Uncertainty Quantification](https://arxiv.org/abs/2107.07511). We'll refer to it as (Angelopoulos and Bates, 2021). Note that this material *was not covered in class*.\n",
        "\n",
        "CP can be understood as an alternative approach to calibration to quantify uncertainty of a model. In CP we take a trained classifier $f(x)$, and we transform it to a set-classifier, i.e., a classifier that outputs a set $\\mathcal{C}(x)$ of possible classes. The set is guaranteed to satisfy:\n",
        "\n",
        "\\begin{equation}\n",
        "P(y \\in \\mathcal{C}(x)) \\ge 1 - \\alpha\n",
        "\\end{equation}\n",
        "\n",
        "where $\\alpha$ is a hyper-parameter called the **error rate**, i.e., the probability that the correct class is inside the set is $1-\\alpha$. For the purpose of this exercise, you need to implement a simple CP procedure which is described in Fig. 2 of (Angelopoulos and Bates, 2021).\n",
        "\n",
        "☝ **Hints**: In practice, you would need a separate validation set. For the purpose of this exercise, you can use the previously defined test set for everything. For computing the **quantile**, you are allowed to use NumPy or TensorFlow Probability.\n",
        "\n",
        "🟩 **Completion requirement**: Replicate the pseudocode from Fig. 2 of (Angelopoulos and Bates, 2021) in TF and apply it on the trained neural network. Plot a histogram showing the distribution of the sizes of the output sets, when the network is run on the entire test set."
      ],
      "metadata": {
        "id": "YUSR_jiGBRrY"
      }
    },
    {
      "cell_type": "code",
      "source": [
        "# Implement the CP procedure\n",
        "\n",
        "## Step 1\n",
        "## Set error rate value\n",
        "alpha  = 0.05\n",
        "\n",
        "## Get conformal scores\n",
        "y_pred_soft = net.predict(X_test)\n",
        "idx_y_test  = tf.cast(y_test, tf.int32).numpy()\n",
        "\n",
        "## Compute softmax output\n",
        "softmax_output = y_pred_soft[range(y_pred_soft.shape[0]), idx_y_test]\n",
        "\n",
        "## Compute conformal scores\n",
        "conformal_scores =  1 - softmax_output ## low value, good performance (1 - f(Xi)_yi)"
      ],
      "metadata": {
        "id": "-xdWHDGxQhzs",
        "colab": {
          "base_uri": "https://localhost:8080/"
        },
        "outputId": "7810f77f-0a06-45c4-e437-d2ebdbf13a79"
      },
      "execution_count": 34,
      "outputs": [
        {
          "output_type": "stream",
          "name": "stdout",
          "text": [
            "39/39 [==============================] - 0s 1ms/step\n"
          ]
        }
      ]
    },
    {
      "cell_type": "code",
      "source": [
        "## Step 2 - get adjusted quantile and compute prediction sets\n",
        "import numpy as np\n",
        "n = y_test.shape[0]\n",
        "\n",
        "q_level = np.ceil((n + 1) * (1 - alpha))/n\n",
        "q_hat   = np.quantile(conformal_scores, q_level,\n",
        "                      interpolation = \"higher\")\n",
        "prediction_sets = y_pred_soft >= (1 - q_hat)"
      ],
      "metadata": {
        "id": "_jYxRSo7_dM6"
      },
      "execution_count": 35,
      "outputs": []
    },
    {
      "cell_type": "code",
      "source": [
        "## Preparing plot\n",
        "ps = np.sum(prediction_sets, axis = 1)\n",
        "values, counts = np.unique(ps, return_counts = True)\n",
        "print(\"Values:\", values, \"Count\", counts)"
      ],
      "metadata": {
        "id": "2ExzegPc_fBx",
        "colab": {
          "base_uri": "https://localhost:8080/"
        },
        "outputId": "d1c7e6c7-cc39-47b5-8725-071218c9d9ff"
      },
      "execution_count": 36,
      "outputs": [
        {
          "output_type": "stream",
          "name": "stdout",
          "text": [
            "Values: [1 2 3] Count [304 919   2]\n"
          ]
        }
      ]
    },
    {
      "cell_type": "code",
      "source": [
        "# Plot a histogram of the size of the output set (e.g., check \"Set size\" on page 12 of (Angelopoulos and Bates, 2021)).\n",
        "plt.figure(figsize = (10, 4))\n",
        "plt.bar(values, counts, color = \"steelblue\", width = 0.1)\n",
        "plt.xlabel(\"Set size\")\n",
        "plt.ylabel(\"#\")\n",
        "plt.title(\"Size of the output set\")"
      ],
      "metadata": {
        "id": "zODzhdRqalSw",
        "colab": {
          "base_uri": "https://localhost:8080/",
          "height": 316
        },
        "outputId": "585c666f-3502-447c-f4ec-d79f62b69ba4"
      },
      "execution_count": 37,
      "outputs": [
        {
          "output_type": "execute_result",
          "data": {
            "text/plain": [
              "Text(0.5, 1.0, 'Size of the output set')"
            ]
          },
          "metadata": {},
          "execution_count": 37
        },
        {
          "output_type": "display_data",
          "data": {
            "text/plain": [
              "<Figure size 720x288 with 1 Axes>"
            ],
            "image/png": "[encoded data removed]"
          },
          "metadata": {}
        }
      ]
    },
    {
      "cell_type": "markdown",
      "source": [
        "### Comment\n",
        "With $\\alpha = 0.05$ and it's possible to see that the network with the 95% probability the correct class is between two possible classes. This is given by the fact that the dataset is highly unbalanced."
      ],
      "metadata": {
        "id": "TZhHv5hoE42O"
      }
    },
    {
      "cell_type": "markdown",
      "source": [
        "### Final checklist\n",
        "\n",
        "1. Carefully check all code. Insert comments when needed. Search for \"TODO\" to see if you forgot something.\n",
        "2. Run everything one final time. *Please do not send me notebooks with errors or cells that are not working.*\n",
        "3. Upload the completed notebook **before 14/11/2022 23:59** on the Google Classrom page."
      ],
      "metadata": {
        "id": "GIyU8c7lh4Ly"
      }
    },
    {
      "cell_type": "markdown",
      "source": [
        "### References\n",
        "\n",
        "[1] Guo, C., Pleiss, G., Sun, Y. and Weinberger, K.Q., 2017. [On calibration of modern neural networks](https://arxiv.org/abs/1706.04599). In *ICML* (pp. 1321-1330). PMLR.\n",
        "\n",
        "[2] Mukhoti, J., Kulharia, V., Sanyal, A., Golodetz, S., Torr, P. and Dokania, P., 2020. [Calibrating deep neural networks using focal loss](https://proceedings.neurips.cc/paper/2020/hash/aeb7b30ef1d024a76f21a1d40e30c302-Abstract.html). In *Advances in Neural Information Processing Systems*, 33, pp. 15288-15299.\n",
        "\n",
        "[3] Angelopoulos, A.N. and Bates, S., 2021. [A gentle introduction to conformal prediction and distribution-free uncertainty quantification](https://arxiv.org/abs/2107.07511). *arXiv preprint arXiv:2107.07511*."
      ],
      "metadata": {
        "id": "wLr5su2Nh9Gw"
      }
    }
  ]
}